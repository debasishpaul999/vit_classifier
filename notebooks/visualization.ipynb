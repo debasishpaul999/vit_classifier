{
 "cells": [
  {
   "cell_type": "markdown",
   "id": "e3ac94e0-5fb8-4af2-9dfd-fc4a27972075",
   "metadata": {},
   "source": [
    "# Vision Transformer Results & Attention Visualization"
   ]
  },
  {
   "cell_type": "markdown",
   "id": "5ac26a6e-8c19-4d00-802e-37efcf81f9f4",
   "metadata": {},
   "source": [
    "This notebook visualizes model predictions, attention maps, and analyzes results."
   ]
  },
  {
   "cell_type": "code",
   "execution_count": 3,
   "id": "208e68c2-a2d4-4d3d-913f-8e3fb0d097cb",
   "metadata": {},
   "outputs": [],
   "source": [
    "import sys\n",
    "sys.path.append('../src')\n",
    "\n",
    "import torch\n",
    "import numpy as np\n",
    "import matplotlib.pyplot as plt\n",
    "import seaborn as sns\n",
    "from sklearn.metrics import confusion_matrix, classification_report\n",
    "\n",
    "from model import create_model\n",
    "from data import get_dataloaders, get_class_names, denormalize\n",
    "from utils import load_config, load_checkpoint\n",
    "\n",
    "%matplotlib inline\n",
    "plt.style.use('seaborn-v0_8-darkgrid')"
   ]
  },
  {
   "cell_type": "markdown",
   "id": "b9653467-d394-424c-b56e-f73eb6517caa",
   "metadata": {},
   "source": [
    "## 1. Load Model and Data"
   ]
  },
  {
   "cell_type": "code",
   "execution_count": null,
   "id": "c13a7b8a-f0e0-4f40-add4-6a3779f2e99e",
   "metadata": {},
   "outputs": [],
   "source": [
    "# Load config\n",
    "config = load_config('../config.yaml')\n",
    "device = torch.device('cuda' if torch.cuda.is_available() else 'cpu')\n",
    "print(f\\\"Using device: {device}\\\")\n",
    "\n",
    "# Load data\n",
    "train_loader, val_loader, test_loader = get_dataloaders(config)\n",
    "class_names = get_class_names()\n",
    "\n",
    "# Create and load model\n",
    "model = create_model(config).to(device)\n",
    "checkpoint_path = '../results/checkpoints/checkpoint_epoch_1_best.pth'\n",
    "load_checkpoint(checkpoint_path, model)\n",
    "model.eval()\n",
    "\n",
    "print(\\\"Model loaded successfully!\\\")"
   ]
  },
  {
   "cell_type": "markdown",
   "id": "6684c09b-91de-4a34-8580-31c380b84970",
   "metadata": {},
   "source": [
    "## 2. Model Predictions"
   ]
  },
  {
   "cell_type": "code",
   "execution_count": null,
   "id": "22acd7a4-e77e-4d21-b0ee-1a77774c0f7b",
   "metadata": {},
   "outputs": [],
   "source": []
  }
 ],
 "metadata": {
  "kernelspec": {
   "display_name": "CIFAR10",
   "language": "python",
   "name": "cifar"
  },
  "language_info": {
   "codemirror_mode": {
    "name": "ipython",
    "version": 3
   },
   "file_extension": ".py",
   "mimetype": "text/x-python",
   "name": "python",
   "nbconvert_exporter": "python",
   "pygments_lexer": "ipython3",
   "version": "3.12.10"
  }
 },
 "nbformat": 4,
 "nbformat_minor": 5
}
